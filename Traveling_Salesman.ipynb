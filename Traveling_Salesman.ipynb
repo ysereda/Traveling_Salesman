{
 "cells": [
  {
   "cell_type": "markdown",
   "metadata": {},
   "source": [
    "# Traveling Salesman problem\n",
    "Given a list of cities and the distances between each pair of cities, what is the shortest possible route that visits each city exactly once and returns to the origin city?"
   ]
  },
  {
   "cell_type": "markdown",
   "metadata": {},
   "source": [
    "## Input data"
   ]
  },
  {
   "cell_type": "code",
   "execution_count": 1,
   "metadata": {},
   "outputs": [],
   "source": [
    "import numpy as np # for fast arithmetics\n",
    "import matplotlib.pyplot as plt"
   ]
  },
  {
   "cell_type": "code",
   "execution_count": 2,
   "metadata": {},
   "outputs": [
    {
     "name": "stdout",
     "output_type": "stream",
     "text": [
      "Number of cities:  22\n",
      "Possible ways:  51090942171709440000\n",
      "['Винница', 'Днепр', 'Житомир', 'Запорожье', 'Ивано-Франковск', 'Киев', 'Кропивницкий', 'Луцк', 'Львов', 'Николаев', 'Одесса', 'Полтава', 'Ровно', 'Сумы', 'Тернополь', 'Ужгород', 'Харьков', 'Херсон', 'Хмельницкий', 'Черкассы', 'Чернигов', 'Черновцы']\n"
     ]
    }
   ],
   "source": [
    "# City names alphabetically\n",
    "cityNames = ['Винница','Днепр','Житомир','Запорожье','Ивано-Франковск','Киев','Кропивницкий','Луцк','Львов','Николаев','Одесса','Полтава','Ровно','Сумы','Тернополь','Ужгород','Харьков','Херсон','Хмельницкий','Черкассы','Чернигов','Черновцы']\n",
    "# Geographical coordinates in degrees (for visualization)\n",
    "latitude = np.array([49.2347128, 48.4622135, 50.2678654, 47.8561438, 48.9117518, 50.401699, 48.5187443, 50.73977, 49.8326679, 46.9329791,46.4598865,49.6021346,50.6199879,50.9077873,49.5483334,48.6208922,49.9934789,46.6353956,49.4229619,49.4444119,51.4981791,48.2920574])\n",
    "longitude = np.array([28.3995942, 34.8602731, 28.6036778, 35.0352701, 24.6470892, 30.2525101, 32.1456232, 25.2639651, 23.9421958, 31.8679134, 30.5717031,34.4871983,26.1815768,34.7280598,25.5276293,22.2178427,36.1603433,32.5468272,26.9170934,31.9897273,31.2193102,25.8657969])\n",
    "# https://distancecalculator.globefeed.com/Ukraine_Distance_Calculator.asp\n",
    "import math # factorial\n",
    "N = len(cityNames); print(\"Number of cities: \",N)\n",
    "print(\"Possible ways: \",math.factorial(N-1))\n",
    "print(cityNames)"
   ]
  },
  {
   "cell_type": "code",
   "execution_count": 3,
   "metadata": {},
   "outputs": [],
   "source": [
    "# Distance matrix using maps.google.com, by car.\n",
    "d = np.array([\n",
    "    [  0, 588, 128, 651, 368, 268, 322, 389, 364, 431, 426, 595, 277, 603, 236, 585, 707, 497, 120, 335, 411, 288],\n",
    "    [588,   0, 596,85.4, 962, 480, 247, 875, 957, 322, 454, 164, 805, 358, 829,1180, 217, 329, 714, 286, 542, 844],\n",
    "    [128, 596,   0, 690, 413, 140, 392, 261, 402, 507, 501, 480, 188, 475, 280, 657, 617, 573, 183, 308, 283, 371],\n",
    "    [651,85.4, 690,   0,1026, 538, 310, 952,1021, 376, 508, 264, 860, 437, 893,1243, 297, 314, 778, 350, 620, 908],\n",
    "    [368, 962, 413,1026,   0, 560, 694, 263, 132, 780, 798, 931, 275, 895, 130, 293,1082, 869, 235, 696, 746, 135],\n",
    "    [268, 480, 140, 538, 560,   0, 303, 400, 541, 481, 475, 344, 327, 369, 420, 796, 456, 547, 323, 192, 142, 531],\n",
    "    [322, 247, 392, 310, 694, 303,   0, 670, 693, 182, 309, 246, 598, 426, 564, 915, 386, 243, 449, 129, 428, 579],\n",
    "    [389, 875, 261, 952, 263, 400, 670,   0, 180, 779, 774, 740,72.6, 734, 167, 426, 877, 845, 257, 587, 543, 336],\n",
    "    [364, 957, 402,1021, 132, 541, 693, 180,   0, 802, 797, 879, 211, 874, 134, 268,1018, 867, 241, 727, 683, 276],\n",
    "    [431, 322, 507, 376, 780, 481, 182, 779, 802,   0, 132, 428, 706, 606, 673,1024, 542,70.1, 558, 311, 610, 688],\n",
    "    [426, 454, 501, 508, 798, 475, 309, 774, 797, 132,   0, 560, 702, 770, 624,1020, 674, 201, 553, 417, 611, 683],\n",
    "    [595, 164, 480, 264, 931, 344, 246, 740, 879, 428, 560,   0, 668, 177, 760,1128, 143, 491, 664, 243, 405, 827],\n",
    "    [277, 805, 188, 860, 275, 327, 598,72.6, 211, 706, 702, 668,   0, 663, 159, 467, 804, 774, 195, 516, 471, 328],\n",
    "    [603, 358, 475, 437, 895, 369, 426, 734, 874, 606, 770, 177, 663,   0, 783,1152, 187, 668, 656, 325, 297, 895],\n",
    "    [236, 829, 280, 893, 130, 420, 564, 167, 134, 673, 624, 760, 159, 783,   0, 352, 897, 739, 111, 561, 562, 171],\n",
    "    [585,1180, 657,1243, 293, 796, 915, 426, 268,1024,1020,1128, 467,1152, 352,   0,1265,1090, 462, 935, 931, 407],\n",
    "    [707, 217, 617, 297,1082, 456, 386, 877,1018, 542, 674, 143, 804, 187, 897,1265,   0, 547, 800, 381, 508, 964],\n",
    "    [497, 329, 573, 314, 869, 547, 243, 845, 867,70.1, 201, 491, 774, 668, 739,1090, 547,   0, 624, 373, 672, 754],\n",
    "    [120, 714, 183, 778, 235, 323, 449, 257, 241, 558, 553, 664, 195, 656, 111, 462, 800, 624,   0, 447, 467, 189],\n",
    "    [335, 286, 308, 350, 696, 192, 129, 587, 727, 311, 417, 243, 516, 325, 561, 935, 381, 373, 447,   0, 297, 600],\n",
    "    [411, 542, 283, 620, 746, 142, 428, 543, 683, 610, 611, 405, 471, 297, 562, 931, 508, 672, 467, 297,   0, 672],\n",
    "    [288, 844, 371, 908, 135, 531, 579, 336, 276, 688, 683, 827, 328, 895, 171, 407, 964, 754, 189, 600, 672,   0]])\n",
    "\n",
    "# Time by car\n",
    "t = np.array([\n",
    "    [  0, 484,  99, 521, 336, 236, 266, 311, 323, 357, 298, 434, 238, 493, 181, 520, 565, 401, 118, 292, 326, 268],\n",
    "    [484,   0, 474,  82, 866, 407, 234, 706, 765, 274, 398, 175, 613, 322, 688, 980, 165, 292, 589, 288, 436, 722],\n",
    "    [ 99, 474,   0, 582, 396, 101, 352, 204, 304, 419, 367, 337, 130, 384, 248, 497, 458, 476, 176, 253, 221, 340],\n",
    "    [521,  82, 582,   0, 898, 483, 271, 784, 826, 305, 431, 244, 675, 377, 723,1016, 240, 280, 629, 331, 498, 765],\n",
    "    [336, 866, 396, 898,   0, 482, 623, 259, 124, 692, 634, 714, 245, 774, 151, 257, 807, 725, 228, 617, 594, 124],\n",
    "    [236, 407, 101, 483, 482,   0, 263, 309, 383, 377, 319, 240, 222, 279, 356, 595, 347, 423, 263, 153, 119, 429],\n",
    "    [266, 234, 352, 271, 623, 263,   0, 589, 581, 141, 263, 236, 473, 401, 472, 773, 340, 207, 390, 114, 345, 520],\n",
    "    [311, 706, 204, 784, 259, 309, 589,   0, 166, 632, 575, 553,  64, 597, 155, 370, 649, 662, 229, 450, 421, 298],\n",
    "    [323, 765, 304, 826, 124, 383, 581, 166,   0, 663, 602, 633, 164, 692, 124, 240, 731, 690, 193, 548, 518, 250],\n",
    "    [357, 274, 419, 305, 692, 377, 141, 632, 663,   0, 124, 383, 540, 543, 541, 884, 432,  67, 450, 255, 492, 588],\n",
    "    [298, 398, 367, 431, 634, 319, 263, 575, 602, 124,   0, 488, 499, 593, 491, 831, 556, 177, 405, 333, 438, 537],\n",
    "    [434, 175, 337, 244, 714, 240, 236, 553, 633, 383, 488,   0, 483, 202, 606, 846, 124, 409, 516, 214, 301, 687],\n",
    "    [238, 613, 130, 675, 245, 222, 473,  64, 164, 540, 499, 483,   0, 534, 142, 381, 568, 592, 181, 379, 351, 287],\n",
    "    [493, 322, 384, 377, 774, 279, 401, 597, 692, 543, 593, 202, 534,   0, 657, 884, 182, 574, 559, 283, 260, 731],\n",
    "    [181, 688, 248, 723, 151, 356, 472, 155, 124, 541, 491, 606, 142, 657,   0, 325, 694, 589,  91, 484, 479, 153],\n",
    "    [520, 980, 497,1016, 257, 595, 773, 370, 240, 884, 831, 846, 381, 884, 325,   0, 950, 888, 409, 753, 720, 373],\n",
    "    [565, 165, 458, 240, 807, 347, 340, 649, 731, 432, 556, 124, 568, 182, 694, 950,   0, 444, 633, 323, 413, 800],\n",
    "    [401, 292, 476, 280, 725, 423, 207, 662, 690,  67, 177, 409, 592, 574, 589, 888, 444,   0, 502, 299, 537, 635],\n",
    "    [118, 589, 176, 629, 228, 263, 390, 229, 193, 450, 405, 516, 181, 559,  91, 409, 633, 502,   0, 413, 397, 172],\n",
    "    [292, 288, 253, 331, 617, 153, 114, 450, 548, 255, 333, 214, 379, 283, 484, 753, 323, 299, 413,   0, 227, 534],\n",
    "    [326, 436, 221, 498, 594, 119, 345, 421, 518, 492, 438, 301, 351, 260, 479, 720, 413, 537, 397, 227,   0, 564],\n",
    "    [268, 722, 340, 765, 124, 429, 520, 298, 250, 588, 537, 687, 287, 731, 153, 373, 800, 635, 172, 534, 564,   0]])"
   ]
  },
  {
   "cell_type": "markdown",
   "metadata": {},
   "source": [
    "## Approach\n",
    "1) The initial arrangement of <i>N</i> cities is arbitrary. The last item in the list is the same as the 1st element.<br>\n",
    "2) Starting with the 1st city in the above list and working your way up the list, try swapping pairs of neighboring cities. The permutation is accepted every time it gives a shorter distance.<br>\n",
    "3) Repeat Step 2 until no decrease in distance can be achieved.<br>\n",
    "4) Repeat Steps 2-3 for increasing number <i>n</i> of neighboring cities (3, 4, ..., <i>N</i>-1). Check only <i>n</i>-1 cyclic permutations.<br>\n",
    "5) All other rearrangements of <i>n</i> cities are addressed by rearranging from <i>n</i>-1 down to 2 cities, Steps 2-3.<br>"
   ]
  },
  {
   "cell_type": "code",
   "execution_count": 28,
   "metadata": {},
   "outputs": [],
   "source": [
    "def PR(): # print current result\n",
    "    global r,d_min\n",
    "    print(\"d =\",d_min,\"; r =\",r)\n",
    "def init():\n",
    "    global d_min,r\n",
    "    d_min=0 # current minimal distance\n",
    "    r=[0] # r - current shortest route: a list of city numbers along the currently shortest route\n",
    "    for i in range(1,N):\n",
    "        d_min += d[i-1][i]\n",
    "        r.append(i)\n",
    "    d_min += d[0][N-1]\n",
    "    r.append(0) # The last item in the list is the same as the 1st element\n",
    "    PR()\n",
    "def init_prev():\n",
    "    global d_min,r\n",
    "    d_min=0 # current minimal distance\n",
    "    # r - current shortest route: a list of city numbers along the currently shortest route, Distance = 3986.1\n",
    "    r = [0, 19, 6, 10, 9, 17, 3, 1, 11, 16, 13, 20, 5, 2, 12, 7, 8, 15, 4, 21, 14, 18, 0]\n",
    "    for i in range(1,N):\n",
    "        d_min += d[r[i-1]][r[i]]\n",
    "    d_min += d[0][r[N-1]]\n",
    "    PR()\n",
    "\n",
    "def optcities(n):\n",
    "    #print(\"Rearrange \",n,\" cities:\")\n",
    "    global d_min,r\n",
    "    d_old = d_min+1 # keep track if distance has decreased\n",
    "    while d_min < d_old:\n",
    "        d_old = d_min # current minimal distance\n",
    "        for i in range(N-n): # for all possible starting positions of the city preceding the 1st of the cycled n cities\n",
    "            # Old distance:\n",
    "            SC = r[i]; # preceding city, fixed\n",
    "            C = np.zeros(n,dtype='int'); # cycled cities: list of n cycled cities\n",
    "            for j in range(n):\n",
    "                C[j] = r[i+1+j]; # jth cycled city\n",
    "            FC = r[i+n+1]; # final city, fixed\n",
    "            l1 = d[SC][C[0]] # l1 - original distance of the route starting at SC ...\n",
    "            for j in range(n-1):\n",
    "                l1 += d[C[j]][C[j+1]] # ... and passing through the n cities ...\n",
    "            l1 += d[C[n-1]][FC]; # ... and the next final city\n",
    "            for k in range(1,n):\n",
    "                D=np.roll(C, -k); # cycling n cities k times\n",
    "                # New distance:\n",
    "                l2 = d[SC][D[0]] # l2 - distance of the above route after cycling: starting at SC ...\n",
    "                for j in range(n-1):\n",
    "                    l2 += d[D[j]][D[j+1]] # ... and passing through the n cycled cities ...\n",
    "                l2 += d[D[n-1]][FC]; # ... and the next final city\n",
    "                # If the cycled arrangement offers a shorter distance:\n",
    "                if l2 < l1:\n",
    "                    print(C,'->',D) # print the successfull cycling\n",
    "                    for j in range(n):\n",
    "                        r[i+1+j] = D[j]; # apply successfull cycling C -> D\n",
    "                    d_min -= l1-l2 # update the minimal distance\n",
    "                    l1 = l2 # update the distance of (SC - n cycled cities - FC)\n",
    "                    C = D; # update the list of n cycled cities\n",
    "        \n",
    "        if d_min < d_old: PR() # print results if the distance has shortened\n",
    "        if n>2: optcities(n-1) # All other rearrangements of n cities are addressed by rearranging from n-1 down to 2 cities\n",
    "def swap2best():\n",
    "    #print(\"Swap 2 cities, apply only the best result\")\n",
    "    global d_min,r,c, i_opt,j_opt,dr_min\n",
    "    dr_min=0 # change in distance\n",
    "    for i in range(1,N-1):\n",
    "        dr_out1 = -d[r[i-1]][r[i]] - d[r[i]][r[i+1]] # r[i] is taken out\n",
    "        for j in range(i+1,N):\n",
    "            if (j <= i-2) or (i+2 <= j):\n",
    "                dr_out2 = -d[r[j-1]][r[j]] - d[r[j]][r[j+1]] # r[j] is taken out\n",
    "                dr_in1 = d[r[j-1]][r[i]] + d[r[i]][r[j+1]] # r[i] is put in j\n",
    "                dr_in2 = d[r[i-1]][r[j]] + d[r[j]][r[i+1]] # r[j] is put in i\n",
    "                dr = dr_out1+dr_out2+dr_in1+dr_in2\n",
    "                if dr < dr_min:\n",
    "                    dr_min = dr; i_opt=i; j_opt=j;\n",
    "            elif j == i-1:\n",
    "                dr_out2 = -d[r[j-1]][r[j]] # r[j] is taken out\n",
    "                dr_in = d[r[j-1]][r[i]] + d[r[i]][r[j]] + d[r[j]][r[i+1]] # r[i] is put in j, r[j] is put in i\n",
    "                dr = dr_out1+dr_out2+dr_in\n",
    "                if dr < dr_min:\n",
    "                    dr_min = dr; i_opt=i; j_opt=j;\n",
    "            elif j == i+1:\n",
    "                dr_out2 = -d[r[j]][r[j+1]] # r[j] is taken out\n",
    "                dr_in = d[r[i-1]][r[j]] + d[r[j]][r[i]] + d[r[i]][r[j+1]] # r[j] is put in i, r[i] is put in j\n",
    "                dr = dr_out1+dr_out2+dr_in\n",
    "                if dr < dr_min:\n",
    "                    dr_min = dr; i_opt=i; j_opt=j;\n",
    "    if dr_min<0:\n",
    "        print(str(r[i_opt])+\"<->\"+str(r[j_opt])+\"; dc=\"+str(dr_min))\n",
    "        tmp = r[i_opt]; r[i_opt] = r[j_opt]; r[j_opt] = tmp; d_min = d_min+dr_min\n",
    "def swap2first():\n",
    "    #print(\"Swap 2 cities, apply the first working result\")\n",
    "    global d_min,r,c, i_opt,j_opt,dr\n",
    "    for i in range(1,N-1):\n",
    "        dr_out1 = -d[r[i-1]][r[i]] - d[r[i]][r[i+1]] # r[i] is taken out\n",
    "        for j in range(i+1,N):\n",
    "            if (j <= i-2) or (i+2 <= j):\n",
    "                dr_out2 = -d[r[j-1]][r[j]] - d[r[j]][r[j+1]] # r[j] is taken out\n",
    "                dr_in1 = d[r[j-1]][r[i]] + d[r[i]][r[j+1]] # r[i] is put in j\n",
    "                dr_in2 = d[r[i-1]][r[j]] + d[r[j]][r[i+1]] # r[j] is put in i\n",
    "                dr = dr_out1+dr_out2+dr_in1+dr_in2\n",
    "            elif j == i-1:\n",
    "                dr_out2 = -d[r[j-1]][r[j]] # r[j] is taken out\n",
    "                dr_in = d[r[j-1]][r[i]] + d[r[i]][r[j]] + d[r[j]][r[i+1]] # r[i] is put in j, r[j] is put in i\n",
    "                dr = dr_out1+dr_out2+dr_in\n",
    "            elif j == i+1:\n",
    "                dr_out2 = -d[r[j]][r[j+1]] # r[j] is taken out\n",
    "                dr_in = d[r[i-1]][r[j]] + d[r[j]][r[i]] + d[r[i]][r[j+1]] # r[j] is put in i, r[i] is put in j\n",
    "                dr = dr_out1+dr_out2+dr_in\n",
    "            if dr < 0:\n",
    "                d_min = d_min + dr; i_opt=i; j_opt=j;\n",
    "                tmp = r[i]; r[i] = r[j]; r[j] = tmp;\n",
    "                print(str(r[i])+\"<->\"+str(r[j])+\"; dr=\"+str(dr))\n",
    "                return True\n",
    "    if dr == 0: return False\n",
    "\n",
    "# function to get unique values\n",
    "def unique(list1):\n",
    "    unique_list = []\n",
    "    # traverse for all elements\n",
    "    for x in list1:\n",
    "        # check if exists in unique_list or not\n",
    "        if x not in unique_list:\n",
    "            unique_list.append(x)\n",
    "    return unique_list\n",
    "def ver(r):\n",
    "    global N\n",
    "    if (len(r) != N+1) or (len(unique(r)) != N):\n",
    "        print(\"ERROR: incorrect r!\");\n",
    "    else:\n",
    "        print(\"Verification is successful:\\nr =\",r);\n",
    "    dv=0\n",
    "    for i in range(N):\n",
    "        dv += d[r[i]][r[i+1]]\n",
    "    print(\"Distance =\",dv)"
   ]
  },
  {
   "cell_type": "markdown",
   "metadata": {},
   "source": [
    "## Run"
   ]
  },
  {
   "cell_type": "code",
   "execution_count": null,
   "metadata": {
    "scrolled": true
   },
   "outputs": [],
   "source": [
    "init();\n",
    "for i in range(2,N):\n",
    "    optcities(i);"
   ]
  },
  {
   "cell_type": "code",
   "execution_count": null,
   "metadata": {},
   "outputs": [],
   "source": [
    "ver(r)"
   ]
  },
  {
   "cell_type": "code",
   "execution_count": null,
   "metadata": {},
   "outputs": [],
   "source": [
    "def optcities(n):\n",
    "    #print(\"Rearrange \",n,\" cities:\")\n",
    "    global d_min,r\n",
    "    d_old = d_min+1 # keep track if distance has decreased\n",
    "    while d_min < d_old:\n",
    "        d_old = d_min # current minimal distance\n",
    "        for i in range(N-n): # for all possible starting positions of the city preceding the 1st of the cycled n cities\n",
    "            # Old distance:\n",
    "            SC = r[i]; # preceding city, fixed\n",
    "            C = np.zeros(n,dtype='int'); # cycled cities: list of n cycled cities\n",
    "            for j in range(n):\n",
    "                C[j] = r[i+1+j]; # jth cycled city\n",
    "            FC = r[i+n+1]; # final city, fixed\n",
    "            l1 = d[SC][C[0]] # l1 - original distance of the route starting at SC ...\n",
    "            for j in range(n-1):\n",
    "                l1 += d[C[j]][C[j+1]] # ... and passing through the n cities ...\n",
    "            l1 += d[C[n-1]][FC]; # ... and the next final city\n",
    "            for k in range(1,n):\n",
    "                D=np.roll(C, -k); # cycling n cities k times\n",
    "                # New distance:\n",
    "                l2 = d[SC][D[0]] # l2 - distance of the above route after cycling: starting at SC ...\n",
    "                for j in range(n-1):\n",
    "                    l2 += d[D[j]][D[j+1]] # ... and passing through the n cycled cities ...\n",
    "                l2 += d[D[n-1]][FC]; # ... and the next final city\n",
    "                if l2 < l1: # if the cycled arrangement offers a shorter distance\n",
    "                    #print(C,'->',D) # print the successfull cycling\n",
    "                    for j in range(n):\n",
    "                        r[i+1+j] = D[j]; # apply successfull cycling C -> D\n",
    "                    d_min -= l1-l2 # update the minimal distance\n",
    "                    l1 = l2 # update the distance of (SC - n cycled cities - FC)\n",
    "                    C = D; # update the list of n cycled cities\n",
    "                D=np.flip(C,0)\n",
    "                # New distance:\n",
    "                l2 = d[SC][D[0]] # l2 - distance of the above route after cycling: starting at SC ...\n",
    "                for j in range(n-1):\n",
    "                    l2 += d[D[j]][D[j+1]] # ... and passing through the n cycled cities ...\n",
    "                l2 += d[D[n-1]][FC]; # ... and the next final city\n",
    "                if l2 < l1: # if the reversed arrangement offers a shorter distance\n",
    "                    #print(C,'->',D) # print the successfull cycling\n",
    "                    for j in range(n):\n",
    "                        r[i+1+j] = D[j]; # apply successfull cycling C -> D\n",
    "                    d_min -= l1-l2 # update the minimal distance\n",
    "                    l1 = l2 # update the distance of (SC - n cycled cities - FC)\n",
    "                    ###C = D; # update the list of n cycled cities\n",
    "                    #PR() # print results if the distance has shortened\n",
    "                    updated = True\n",
    "        if d_min < d_old: PR() # print results if the distance has shortened\n",
    "        if n>2: optcities(n-1) # All other rearrangements of n cities are addressed by rearranging from n-1 down to 2 cities\n"
   ]
  },
  {
   "cell_type": "code",
   "execution_count": null,
   "metadata": {},
   "outputs": [],
   "source": [
    "init_prev();\n",
    "for i in range(2,N):\n",
    "    optcities(i);"
   ]
  },
  {
   "cell_type": "code",
   "execution_count": null,
   "metadata": {},
   "outputs": [],
   "source": [
    "ver(r) #Verification of no repeated cities"
   ]
  },
  {
   "cell_type": "markdown",
   "metadata": {},
   "source": [
    "## Swap 2 best only"
   ]
  },
  {
   "cell_type": "code",
   "execution_count": 46,
   "metadata": {},
   "outputs": [
    {
     "name": "stdout",
     "output_type": "stream",
     "text": [
      "d = 12713.0 ; r = [0, 1, 2, 3, 4, 5, 6, 7, 8, 9, 10, 11, 12, 13, 14, 15, 16, 17, 18, 19, 20, 21, 0]\n",
      "3<->12; dc=-1883.0\n",
      "1<->18; dc=-1337.0\n",
      "11<->17; dc=-878.0\n",
      "5<->21; dc=-699.0\n",
      "6<->15; dc=-1083.0\n",
      "9<->14; dc=-735.0\n",
      "13<->1; dc=-583.6\n",
      "4<->7; dc=-182.39999999999998\n",
      "21<->8; dc=-255.0\n",
      "16<->11; dc=-130.0\n",
      "3<->9; dc=-115.89999999999998\n",
      "1<->6; dc=-222.0\n",
      "2<->14; dc=-24.0\n",
      "17<->9; dc=-8.0\n",
      "Distances = [12713.0, 10830.0, 9493.0, 8615.0, 7916.0, 6833.0, 6098.0, 5514.4, 5332.0, 5077.0, 4947.0, 4831.1, 4609.1, 4585.1, 4577.1]\n",
      "Verification is successful:\n",
      "r = [0, 18, 14, 12, 7, 8, 15, 4, 21, 2, 10, 9, 17, 6, 3, 1, 11, 16, 13, 19, 20, 5, 0]\n",
      "Distance = 4577.1\n"
     ]
    }
   ],
   "source": [
    "init(); dm=[d_min]; i=[0]; j=[0]; dr=[0];\n",
    "for ii in range(30):\n",
    "    swap2best()\n",
    "    if dr_min==0: break\n",
    "    dm.append(d_min)\n",
    "    i.append(i_opt); j.append(j_opt); dr.append(dr_min)\n",
    "print(\"Distances =\",dm)\n",
    "ver(r)"
   ]
  },
  {
   "cell_type": "code",
   "execution_count": 47,
   "metadata": {
    "collapsed": true
   },
   "outputs": [
    {
     "data": {
      "text/plain": [
       "[<matplotlib.lines.Line2D at 0x10e68ac0>]"
      ]
     },
     "execution_count": 47,
     "metadata": {},
     "output_type": "execute_result"
    },
    {
     "data": {
      "image/png": "[encoded data removed]",
      "text/plain": [
       "<Figure size 720x720 with 1 Axes>"
      ]
     },
     "metadata": {
      "needs_background": "light"
     },
     "output_type": "display_data"
    }
   ],
   "source": [
    "import matplotlib.pyplot as plt\n",
    "plt.figure(1, figsize=(10,10))\n",
    "plt.plot(dm)"
   ]
  },
  {
   "cell_type": "markdown",
   "metadata": {},
   "source": [
    "## Swap 2 first"
   ]
  },
  {
   "cell_type": "code",
   "execution_count": 36,
   "metadata": {},
   "outputs": [
    {
     "name": "stdout",
     "output_type": "stream",
     "text": [
      "2<->1; dr=-1064.6\n",
      "3<->2; dr=-90.00000000000011\n",
      "12<->3; dr=-284.4000000000001\n",
      "1<->12; dr=-97.0\n",
      "4<->1; dr=-647.0\n",
      "7<->4; dr=-205.39999999999998\n",
      "12<->7; dr=-39.0\n",
      "6<->2; dr=-384.0\n",
      "2<->7; dr=-52.59999999999991\n",
      "5<->12; dr=-59.39999999999998\n",
      "2<->5; dr=-229.0\n",
      "18<->2; dr=-15.0\n",
      "16<->18; dr=-6.0\n",
      "5<->16; dr=-356.0\n",
      "1<->5; dr=-341.0\n",
      "16<->1; dr=-20.0\n",
      "6<->16; dr=-232.0\n",
      "11<->6; dr=-15.0\n",
      "1<->11; dr=-81.0\n",
      "6<->1; dr=-263.6\n",
      "13<->6; dr=-134.0\n",
      "5<->13; dr=-101.0\n",
      "17<->5; dr=-358.0\n",
      "10<->17; dr=-188.9000000000001\n",
      "9<->10; dr=-1.099999999999909\n",
      "1<->9; dr=-75.30000000000007\n",
      "6<->1; dr=-143.60000000000002\n",
      "20<->6; dr=-13.0\n",
      "2<->20; dr=-217.0\n",
      "6<->2; dr=-69.0\n",
      "8<->4; dr=-82.0\n",
      "15<->8; dr=-32.0\n",
      "8<->4; dr=-36.0\n",
      "8<->15; dr=-23.0\n",
      "14<->15; dr=-16.0\n",
      "9<->17; dr=-131.0\n",
      "2<->18; dr=-48.0\n",
      "21<->2; dr=-53.0\n",
      "21<->15; dr=-71.0\n",
      "15<->14; dr=-9.0\n",
      "18<->5; dr=-282.0\n",
      "14<->15; dr=-16.0\n",
      "19<->20; dr=-70.0\n",
      "2<->19; dr=-19.0\n",
      "5<->20; dr=-38.0\n",
      "Distances = [12713.0, 11648.4, 11558.4, 11274.0, 11177.0, 10530.0, 10324.6, 10285.6, 9901.6, 9849.0, 9789.6, 9560.6, 9545.6, 9539.6, 9183.6, 8842.6, 8822.6, 8590.6, 8575.6, 8494.6, 8231.0, 8097.0, 7996.0, 7638.0, 7449.1, 7448.0, 7372.7, 7229.099999999999, 7216.099999999999, 6999.099999999999, 6930.099999999999, 6848.099999999999, 6816.099999999999, 6780.099999999999, 6757.099999999999, 6741.099999999999, 6610.099999999999, 6562.099999999999, 6509.099999999999, 6438.099999999999, 6429.099999999999, 6147.099999999999, 6131.099999999999, 6061.099999999999, 6042.099999999999, 6004.099999999999]\n",
      "Verification is successful:\n",
      "r = [0, 6, 11, 16, 13, 12, 7, 8, 14, 10, 9, 17, 3, 1, 21, 4, 15, 18, 2, 5, 20, 19, 0]\n",
      "Distance = 6004.1\n"
     ]
    }
   ],
   "source": [
    "init(); dm=[d_min]; i=[0]; j=[0]; dr=[0];\n",
    "while swap2first():\n",
    "    dm.append(d_min)\n",
    "    #i.append(i_opt); j.append(j_opt); dr.append(dr)\n",
    "print(\"Distances =\",dm)\n",
    "ver(r)"
   ]
  },
  {
   "cell_type": "code",
   "execution_count": 37,
   "metadata": {},
   "outputs": [
    {
     "data": {
      "text/plain": [
       "[<matplotlib.lines.Line2D at 0x10dd9610>]"
      ]
     },
     "execution_count": 37,
     "metadata": {},
     "output_type": "execute_result"
    },
    {
     "data": {
      "image/png": "[encoded data removed]",
      "text/plain": [
       "<Figure size 720x720 with 1 Axes>"
      ]
     },
     "metadata": {
      "needs_background": "light"
     },
     "output_type": "display_data"
    }
   ],
   "source": [
    "import matplotlib.pyplot as plt\n",
    "plt.figure(1, figsize=(10,10))\n",
    "plt.plot(dm)"
   ]
  },
  {
   "cell_type": "code",
   "execution_count": 38,
   "metadata": {
    "scrolled": true
   },
   "outputs": [
    {
     "name": "stdout",
     "output_type": "stream",
     "text": [
      "Verification is successful:\n",
      "r = [0, 6, 11, 16, 13, 12, 7, 8, 14, 10, 9, 17, 3, 1, 21, 4, 15, 18, 2, 5, 20, 19, 0]\n",
      "Distance = 6004.1\n"
     ]
    }
   ],
   "source": [
    "ver(r)"
   ]
  },
  {
   "cell_type": "markdown",
   "metadata": {},
   "source": [
    "## Results"
   ]
  },
  {
   "cell_type": "code",
   "execution_count": null,
   "metadata": {},
   "outputs": [],
   "source": [
    "print(\"Current shortest route: \",d_min,\"\\nStart\\tEnd\\tDist\")\n",
    "for i in range(len(r)-1):\n",
    "    print(cityNames[r[i]],\"\\t\",cityNames[r[i+1]],\"\\t\",d[r[i]][r[i+1]])"
   ]
  },
  {
   "cell_type": "code",
   "execution_count": null,
   "metadata": {},
   "outputs": [],
   "source": [
    "# Visualize the shortest route\n",
    "import numpy as np\n",
    "from matplotlib import pyplot as plt\n",
    "import pandas as pd\n",
    "# locations, geographical coordinates in degrees\n",
    "# convert to radians\n",
    "Pi = np.pi\n",
    "#latitude = Pi/180*latitude\n",
    "#longitude = Pi/180*longitude\n",
    "# https://en.wikipedia.org/wiki/Spherical_coordinate_system\n",
    "theta = longitude # polar angle\n",
    "phi = latitude-Pi/2 # azimuthal angle\n",
    "R = 40000/(2*Pi) # radius of Earth \n",
    "import math\n",
    "#X = R*np.sin(theta)*np.cos(phi) # x-coordinates in km\n",
    "#Y = R*np.sin(theta)*np.sin(phi) # y-coordinates in km\n",
    "#Z = R*np.cos(theta) # z-coordinates in km\n",
    "X = 40000/360*longitude\n",
    "Y = 40000/360*latitude\n",
    "\n",
    "#,'Николаев','Одесса','Полтава','Ровно','Севастополь','Симферополь','Сумы','Тернополь','Ужгород','Харьков','Херсон','Хмельницкий','Черкассы','Чернигов','Черновцы'\n",
    "# 'Донецк','Луганск',\n",
    "\n",
    "def plot_tours(cityNames, r):\n",
    "    tours = [[r[i], r[i+1]] for i in range(N)]\n",
    "    plt.figure(1, figsize=(20,15))\n",
    "    for s, tour in enumerate(tours):\n",
    "        plt.plot([ X[tour[0]], X[tour[1]] ], [ Y[tour[0]], Y[tour[1]] ], color = \"black\", linewidth=0.5) # line\n",
    "        plt.scatter(X[tour[1]], Y[tour[1]], marker = 'x', color = 'g', label = cityNames[tour[1]]) # dot\n",
    "        plt.text(X[tour[1]]*1.001, Y[tour[1]]*1.001, cityNames[tour[1]], fontsize=12)\n",
    "    #plt.scatter(0,0, marker = \"o\", color = 'b', label = \"factory\")\n",
    "    plt.xlabel(\"X [km]\"), plt.ylabel(\"Y [km]\"), plt.title(\"Tours\") #, plt.legend(loc = 1)\n",
    "    plt.show()\n",
    "\n",
    "plot_tours(cityNames, r)"
   ]
  },
  {
   "cell_type": "markdown",
   "metadata": {},
   "source": [
    "## Nearest-neighbour path\n",
    "The rule that one first should go from the starting point to the closest point, then to the point closest to this, etc., in general does not yield the shortest route."
   ]
  },
  {
   "cell_type": "code",
   "execution_count": null,
   "metadata": {},
   "outputs": [],
   "source": [
    "# determine nearest-neighbor route\n",
    "nnr=[0] # current part of nearest-neighbor route: a list of city numbers along it\n",
    "nnc=[cityNames[0]] # current list of nearest-neighbor cities\n",
    "nnd=0 # current distance\n",
    "for i in range(N-1):\n",
    "    min = 1e15\n",
    "    from_city = nnr[i]\n",
    "    for j in range(1,N):\n",
    "        if (j not in nnr) and d[from_city][j] < min:\n",
    "            closest_index = j\n",
    "            min = d[from_city][j]\n",
    "    nnr.append(closest_index)\n",
    "    nnc.append(cityNames[closest_index])\n",
    "    nnd += d[from_city][closest_index]\n",
    "nnr.append(0)\n",
    "nnc.append(cityNames[0])\n",
    "nnd += d[closest_index][0]\n",
    "print(\"Nearest-neighbor route:\")\n",
    "print(nnr)\n",
    "print(nnc)\n",
    "print(\"Nearest-neighbor distance =\",nnd)"
   ]
  },
  {
   "cell_type": "markdown",
   "metadata": {},
   "source": [
    "# Draft"
   ]
  },
  {
   "cell_type": "code",
   "execution_count": null,
   "metadata": {},
   "outputs": [],
   "source": [
    "# Distances from Google\n",
    "import requests\n",
    "import json\n",
    "#Enter your source and destination city\n",
    "originPoint = input(\"Please enter your origin city: \")\n",
    "destinationPoint= input(\"Please enter your destination city: \")\n",
    "#Place your google map API_KEY to a variable\n",
    "apiKey = 'YOUR_API_KEY'\n",
    "#Store google maps api url in a variable\n",
    "url = 'https://maps.googleapis.com/maps/api/distancematrix/json?'\n",
    "# call get method of request module and store respose object\n",
    "r = requests.get(url + 'origins = ' + originPoint + '&destinations = ' + destinationPoint + '&key = ' + apiKey)\n",
    "#Get json format result from the above response object\n",
    "res = r.json()\n",
    "#print the value of res\n",
    "print(res)"
   ]
  },
  {
   "cell_type": "code",
   "execution_count": null,
   "metadata": {},
   "outputs": [],
   "source": [
    "def opt2():\n",
    "    print(\"Optimize pairs\")\n",
    "    global d_min,r\n",
    "    d_old = d_min+1\n",
    "    while d_min < d_old:\n",
    "        d_old = d_min\n",
    "        for i in range(N-2):\n",
    "            SC = r[i]; # starting city, fixed\n",
    "            A = r[i+1]; B = r[i+2]; # next 2 cities\n",
    "            FC = r[i+3]; # finishing city, fixed\n",
    "            l1 = d[SC][A] + d[A][B] + d[B][FC] # AB\n",
    "            l2 = d[SC][B] + d[B][A] + d[A][FC] # BA\n",
    "            if l2 < l1:\n",
    "                r[i+1] = B; r[i+2] = A; # swap A and B\n",
    "                d_min -= l1-l2\n",
    "                print(A,B,'->',B,A)\n",
    "        if d_min < d_old: PR()\n",
    "def opt3():\n",
    "    print(\"Cycle 3 cities\")\n",
    "    global d_min,r\n",
    "    d_old = d_min+1\n",
    "    while d_min < d_old:\n",
    "        d_old = d_min\n",
    "        for i in range(N-3):\n",
    "            SC = r[i]; # starting city, fixed\n",
    "            A = r[i+1]; B = r[i+2]; C = r[i+3]; # next 3 cities\n",
    "            FC = r[i+4]; # finishing city, fixed\n",
    "            l1 = d[SC][A] + d[A][B] + d[B][C] + d[C][FC] # ABC\n",
    "            # one swap at a time is accounted in pairs above: ABC -> ACB, BAC\n",
    "            l2 = d[SC][B] + d[B][C] + d[C][A] + d[A][FC] # BCA\n",
    "            if l2 < l1:\n",
    "                r[i+1] = B; r[i+2] = C; r[i+3] = A; # ABC -> BCA\n",
    "                d_min -= l1-l2\n",
    "                A = r[i+1]; B = r[i+2]; C = r[i+3];\n",
    "                l1 = d[SC][A] + d[A][B] + d[B][C] + d[C][FC]\n",
    "                print(A,B,C,'->',B,C,A)\n",
    "            else:\n",
    "                l2 = d[SC][C] + d[C][A] + d[A][B] + d[B][FC] # CAB (this would be ABC again if we swapped to BCA)\n",
    "                if l2 < l1:\n",
    "                    r[i+1] = C; r[i+2] = A; r[i+3] = B; # ABC -> CAB\n",
    "                    d_min -= l1-l2\n",
    "                    A = r[i+1]; B = r[i+2]; C = r[i+3];\n",
    "                    l1 = d[SC][A] + d[A][B] + d[B][C] + d[C][FC]\n",
    "                    print(A,B,C,'->',C,A,B)\n",
    "            l2 = d[SC][C] + d[C][B] + d[B][A] + d[A][FC] # CBA\n",
    "            if l2 < l1:\n",
    "                r[i+1] = C; r[i+2] = B; r[i+3] = A; # ABC -> CBA\n",
    "                d_min -= l1-l2\n",
    "                A = r[i+1]; B = r[i+2]; C = r[i+3];\n",
    "                l1 = d[SC][A] + d[A][B] + d[B][C] + d[C][FC]\n",
    "                print('Needed!')\n",
    "                print(A,B,C,'->',C,B,A)\n",
    "        if d_min < d_old: PR()\n",
    "def opt4():\n",
    "    print(\"Cycle 4 cities\")\n",
    "    global d_min,r\n",
    "    d_old = d_min+1\n",
    "    while d_min < d_old:\n",
    "        d_old = d_min\n",
    "        for i in range(N-4):\n",
    "            SC = r[i]; # starting city, fixed\n",
    "            A = r[i+1]; B = r[i+2]; C = r[i+3]; D = r[i+4]; # next 4 cities\n",
    "            FC = r[i+5]; # finishing city, fixed\n",
    "            l1 = d[SC][A] + d[A][B] + d[B][C] + d[C][D] + d[D][FC] # ABCD\n",
    "            l2 = d[SC][B] + d[B][C] + d[C][D] + d[D][A] + d[A][FC] # BCDA\n",
    "            if l2 < l1:\n",
    "                print(A,B,C,D,'->',B,C,D,A)\n",
    "                r[i+1] = B; r[i+2] = C; r[i+3] = D; r[i+4] = A; # ABCD -> BCDA\n",
    "                d_min -= l1-l2\n",
    "                l1 = l2\n",
    "                A = r[i+1]; B = r[i+2]; C = r[i+3]; D = r[i+4];\n",
    "            l2 = d[SC][C] + d[C][D] + d[D][A] + d[A][B] + d[B][FC] # CDAB\n",
    "            if l2 < l1:\n",
    "                print(A,B,C,D,'->',C,D,A,B)\n",
    "                r[i+1] = C; r[i+2] = D; r[i+3] = A; r[i+4] = B; # ABCD -> CDAB\n",
    "                d_min -= l1-l2\n",
    "                A = r[i+1]; B = r[i+2]; C = r[i+3]; D = r[i+4];\n",
    "                l1 = l2\n",
    "            l2 = d[SC][D] + d[D][A] + d[A][B] + d[B][C] + d[C][FC] # DABC\n",
    "            if l2 < l1:\n",
    "                print(A,B,C,D,'->',D,A,B,C)\n",
    "                r[i+1] = D; r[i+2] = A; r[i+3] = B; r[i+4] = C; # ABCD -> DABC\n",
    "                d_min -= l1-l2\n",
    "                A = r[i]; B = r[i+1]; C = r[i+2]; D = r[i+3];\n",
    "                l1 = d[SC][A] + d[A][B] + d[B][C] + d[C][D] + d[D][FC]\n",
    "        if d_min < d_old: PR()\n",
    "def opt5():\n",
    "    print(\"Cycle 5 cities\")\n",
    "    global d_min,r\n",
    "    d_old = d_min+1\n",
    "    while d_min < d_old:\n",
    "        d_old = d_min\n",
    "        for i in range(N-5):\n",
    "            SC = r[i]; # starting city, fixed\n",
    "            A = r[i+1]; B = r[i+2]; C = r[i+3]; D = r[i+4]; E = r[i+5] # next 5 cities\n",
    "            FC = r[i+6]; # finishing city, fixed\n",
    "            l1 = d[SC][A] + d[A][B] + d[B][C] + d[C][D] + d[D][E] + d[E][FC] # ABCDE\n",
    "            l2 = d[SC][B] + d[B][C] + d[C][D] + d[D][E] + d[E][A] + d[A][FC] # BCDEA\n",
    "            if l2 < l1:\n",
    "                print(A,B,C,D,E,'->',B,C,D,E,A)\n",
    "                r[i+1] = B; r[i+2] = C; r[i+3] = D; r[i+4] = E; r[i+5] = A; # ABCDE -> BCDEA\n",
    "                d_min -= l1-l2\n",
    "                l1 = l2\n",
    "                A = r[i+1]; B = r[i+2]; C = r[i+3]; D = r[i+4]; E = r[i+5];\n",
    "            l2 = d[SC][C] + d[C][D] + d[D][E] + d[E][A] + d[A][B] + d[B][FC] # CDEAB\n",
    "            if l2 < l1:\n",
    "                print(A,B,C,D,E,'->',C,D,E,A,B)\n",
    "                r[i+1] = C; r[i+2] = D; r[i+3] = E; r[i+4] = A; r[i+5] = B; # ABCDE -> CDEAB\n",
    "                d_min -= l1-l2\n",
    "                l1 = l2\n",
    "                A = r[i+1]; B = r[i+2]; C = r[i+3]; D = r[i+4]; E = r[i+5];\n",
    "            l2 = d[SC][D] + d[D][E] + d[E][A] + d[A][B] + d[B][C] + d[C][FC] # DEABC\n",
    "            if l2 < l1:\n",
    "                print(A,B,C,D,E,'->',D,E,A,B,C)\n",
    "                r[i+1] = D; r[i+2] = E; r[i+3] = A; r[i+4] = B; r[i+5] = C; # ABCDE -> DEABC\n",
    "                d_min -= l1-l2\n",
    "                l1 = l2\n",
    "                A = r[i+1]; B = r[i+2]; C = r[i+3]; D = r[i+4]; E = r[i+5];           \n",
    "            l2 = d[SC][E] + d[E][A] + d[A][B] + d[B][C] + d[C][D] + d[D][FC] # EABCD\n",
    "            if l2 < l1:\n",
    "                print(A,B,C,D,E,'->',E,A,B,C,D)\n",
    "                r[i+1] = E; r[i+2] = A; r[i+3] = B; r[i+4] = C; r[i+5] = D; # ABCDE -> EABCD\n",
    "                d_min -= l1-l2\n",
    "                l1 = l2\n",
    "                A = r[i+1]; B = r[i+2]; C = r[i+3]; D = r[i+4]; E = r[i+5];           \n",
    "        if d_min < d_old: PR()\n",
    "def opt6():\n",
    "    print(\"Cycle 6 cities\")\n",
    "    global d_min,r\n",
    "    d_old = d_min+1\n",
    "    while d_min < d_old:\n",
    "        d_old = d_min\n",
    "        for i in range(N-6):\n",
    "            SC = r[i]; # starting city, fixed\n",
    "            A = r[i+1]; B = r[i+2]; C = r[i+3]; D = r[i+4]; E = r[i+5]; F = r[i+6]; # next 6 cities\n",
    "            FC = r[i+7]; # finishing city, fixed\n",
    "            l1 = d[SC][A] + d[A][B] + d[B][C] + d[C][D] + d[D][E] + d[E][F] + d[F][FC] # ABCDEF\n",
    "            l2 = d[SC][B] + d[B][C] + d[C][D] + d[D][E] + d[E][F] + d[F][A] + d[A][FC] # BCDEFA\n",
    "            if l2 < l1:\n",
    "                print(A,B,C,D,E,F,'->',B,C,D,E,F,A)\n",
    "                r[i+1] = B; r[i+2] = C; r[i+3] = D; r[i+4] = E; r[i+5] = F; r[i+6] = A; # ABCDEF -> BCDEFA\n",
    "                d_min -= l1-l2\n",
    "                l1 = l2\n",
    "                A = r[i+1]; B = r[i+2]; C = r[i+3]; D = r[i+4]; E = r[i+5]; F = r[i+6];\n",
    "            l2 = d[SC][C] + d[C][D] + d[D][E] + d[E][F] + d[F][A] + d[A][B] + d[B][FC] # CDEFAB\n",
    "            if l2 < l1:\n",
    "                print(A,B,C,D,E,F,'->',C,D,E,F,A,B)\n",
    "                r[i+1] = C; r[i+2] = D; r[i+3] = E; r[i+4] = F; r[i+5] = A; r[i+6] = B; # ABCDEF -> CDEFAB\n",
    "                d_min -= l1-l2\n",
    "                l1 = l2\n",
    "                A = r[i+1]; B = r[i+2]; C = r[i+3]; D = r[i+4]; E = r[i+5]; F = r[i+6];\n",
    "            l2 = d[SC][D] + d[D][E] + d[E][F] + d[F][A] + d[A][B] + d[B][C] + d[C][FC] # DEFABC\n",
    "            if l2 < l1:\n",
    "                print(A,B,C,D,E,F,'->',D,E,F,A,B,C)\n",
    "                r[i+1] = D; r[i+2] = E; r[i+3] = F; r[i+4] = A; r[i+5] = B; r[i+6] = C; # ABCDEF -> DEFABC\n",
    "                d_min -= l1-l2\n",
    "                l1 = l2\n",
    "                A = r[i+1]; B = r[i+2]; C = r[i+3]; D = r[i+4]; E = r[i+5]; F = r[i+6];           \n",
    "            l2 = d[SC][E] + d[E][F] + d[F][A] + d[A][B] + d[B][C] + d[C][D] + d[D][FC] # EFABCD\n",
    "            if l2 < l1:\n",
    "                print(A,B,C,D,E,F,'->',E,F,A,B,C,D)\n",
    "                r[i+1] = E; r[i+2] = F; r[i+3] = A; r[i+4] = B; r[i+5] = C; r[i+6] = D; # ABCDEF -> EFABCD\n",
    "                d_min -= l1-l2\n",
    "                l1 = l2\n",
    "            A = r[i+1]; B = r[i+2]; C = r[i+3]; D = r[i+4]; E = r[i+5]; F = r[i+6];           \n",
    "            l2 = d[SC][F] + d[F][A] + d[A][B] + d[B][C] + d[C][D] + d[D][E] + d[E][FC] # FABCDE\n",
    "            if l2 < l1:\n",
    "                print(A,B,C,D,E,F,'->',F,A,B,C,D,E)\n",
    "                r[i+1] = F; r[i+2] = A; r[i+3] = B; r[i+4] = C; r[i+5] = D; r[i+6] = E; # ABCDEF -> FABCDE\n",
    "                d_min -= l1-l2\n",
    "                l1 = l2\n",
    "                A = r[i+1]; B = r[i+2]; C = r[i+3]; D = r[i+4]; E = r[i+5]; F = r[i+6];           \n",
    "        if d_min < d_old: PR()\n",
    "def opt7():\n",
    "    print(\"Cycle 7 cities\")\n",
    "    global d_min,r\n",
    "    d_old = d_min+1\n",
    "    while d_min < d_old:\n",
    "        d_old = d_min\n",
    "        for i in range(N-7):\n",
    "            SC = r[i]; # starting city, fixed\n",
    "            A = r[i+1]; B = r[i+2]; C = r[i+3]; D = r[i+4]; E = r[i+5]; F = r[i+6]; G = r[i+7]; # next 7 cities\n",
    "            FC = r[i+8]; # finishing city, fixed\n",
    "            l1 = d[SC][A] + d[A][B] + d[B][C] + d[C][D] + d[D][E] + d[E][F] + d[F][G] + d[G][FC] # ABCDEFG\n",
    "            l2 = d[SC][B] + d[B][C] + d[C][D] + d[D][E] + d[E][F] + d[F][G] + d[G][A] + d[A][FC] # BCDEFGA\n",
    "            if l2 < l1:\n",
    "                print(A,B,C,D,E,F,G,'->',B,C,D,E,F,G,A)\n",
    "                r[i+1] = B; r[i+2] = C; r[i+3] = D; r[i+4] = E; r[i+5] = F; r[i+6] = G; r[i+7] = A; # ABCDEFG -> BCDEFGA\n",
    "                d_min -= l1-l2\n",
    "                l1 = l2\n",
    "                A = r[i+1]; B = r[i+2]; C = r[i+3]; D = r[i+4]; E = r[i+5]; F = r[i+6]; G = r[i+7];\n",
    "            l2 = d[SC][C] + d[C][D] + d[D][E] + d[E][F] + d[F][G] + d[G][A] + d[A][B] + d[B][FC] # CDEFGAB\n",
    "            if l2 < l1:\n",
    "                print(A,B,C,D,E,F,G,'->',C,D,E,F,G,A,B)\n",
    "                r[i+1] = C; r[i+2] = D; r[i+3] = E; r[i+4] = F; r[i+5] = G; r[i+6] = A; r[i+7] = B; # ABCDEFG -> CDEFABG\n",
    "                d_min -= l1-l2\n",
    "                l1 = l2\n",
    "                A = r[i+1]; B = r[i+2]; C = r[i+3]; D = r[i+4]; E = r[i+5]; F = r[i+6]; G = r[i+7];\n",
    "            l2 = d[SC][D] + d[D][E] + d[E][F] + d[F][G] + d[G][A] + d[A][B] + d[B][C] + d[C][FC] # DEFGABC\n",
    "            if l2 < l1:\n",
    "                print(A,B,C,D,E,F,G,'->',D,E,F,G,A,B,C)\n",
    "                r[i+1] = D; r[i+2] = E; r[i+3] = F; r[i+4] = G; r[i+5] = A; r[i+6] = B; r[i+7] = C; # ABCDEFG -> DEFGABC\n",
    "                d_min -= l1-l2\n",
    "                l1 = l2\n",
    "                A = r[i+1]; B = r[i+2]; C = r[i+3]; D = r[i+4]; E = r[i+5]; F = r[i+6]; G = r[i+7];           \n",
    "            l2 = d[SC][E] + d[E][F] + d[F][G] + d[G][A] + d[A][B] + d[B][C] + d[C][D] + d[D][FC] # EFGABCD\n",
    "            if l2 < l1:\n",
    "                print(A,B,C,D,E,F,G,'->',E,F,G,A,B,C,D)\n",
    "                r[i+1] = E; r[i+2] = F; r[i+3] = G; r[i+4] = A; r[i+5] = B; r[i+6] = C; r[i+7] = D; # ABCDEFG -> EFGABCD\n",
    "                d_min -= l1-l2\n",
    "                l1 = l2\n",
    "            A = r[i+1]; B = r[i+2]; C = r[i+3]; D = r[i+4]; E = r[i+5]; F = r[i+6]; G = r[i+7];          \n",
    "            l2 = d[SC][F] + d[F][G] + d[G][A] + d[A][B] + d[B][C] + d[C][D] + d[D][E] + d[E][FC] # FGABCDE\n",
    "            if l2 < l1:\n",
    "                print(A,B,C,D,E,F,G,'->',F,G,A,B,C,D,E)\n",
    "                r[i+1] = F; r[i+2] = G; r[i+3] = A; r[i+4] = B; r[i+5] = C; r[i+6] = D; r[i+7] = E; # ABCDEFG -> FGABCDE\n",
    "                d_min -= l1-l2\n",
    "                l1 = l2\n",
    "                A = r[i+1]; B = r[i+2]; C = r[i+3]; D = r[i+4]; E = r[i+5]; F = r[i+6]; G = r[i+7];           \n",
    "            l2 = d[SC][G] + d[G][A] + d[A][B] + d[B][C] + d[C][D] + d[D][E] + d[E][F] + d[F][FC] # GABCDEF\n",
    "            if l2 < l1:\n",
    "                print(A,B,C,D,E,F,G,'->',G,A,B,C,D,E,F)\n",
    "                r[i+1] = G; r[i+2] = A; r[i+3] = B; r[i+4] = C; r[i+5] = D; r[i+6] = E; r[i+7] = F;  # ABCDEFG -> GABCDEF\n",
    "                d_min -= l1-l2\n",
    "                l1 = l2\n",
    "                A = r[i+1]; B = r[i+2]; C = r[i+3]; D = r[i+4]; E = r[i+5]; F = r[i+6]; G = r[i+7];           \n",
    "        if d_min < d_old: PR()\n"
   ]
  },
  {
   "cell_type": "markdown",
   "metadata": {},
   "source": [
    "## Swap 2 first"
   ]
  },
  {
   "cell_type": "code",
   "execution_count": 58,
   "metadata": {
    "scrolled": true
   },
   "outputs": [
    {
     "name": "stdout",
     "output_type": "stream",
     "text": [
      "d = 12713.0 ; r = [0, 1, 2, 3, 4, 5, 6, 7, 8, 9, 10, 11, 12, 13, 14, 15, 16, 17, 18, 19, 20, 21, 0]\n",
      "2<->1; dr=-1064.6\n",
      "3<->2; dr=-90.00000000000011\n",
      "12<->3; dr=-284.4000000000001\n",
      "1<->12; dr=-97.0\n",
      "4<->1; dr=-647.0\n",
      "7<->4; dr=-205.39999999999998\n",
      "12<->7; dr=-39.0\n",
      "6<->2; dr=-384.0\n",
      "2<->7; dr=-52.59999999999991\n",
      "5<->12; dr=-59.39999999999998\n",
      "2<->5; dr=-229.0\n",
      "18<->2; dr=-15.0\n",
      "16<->18; dr=-6.0\n",
      "5<->16; dr=-356.0\n",
      "1<->5; dr=-341.0\n",
      "16<->1; dr=-20.0\n",
      "6<->16; dr=-232.0\n",
      "11<->6; dr=-15.0\n",
      "1<->11; dr=-81.0\n",
      "6<->1; dr=-263.6\n",
      "13<->6; dr=-134.0\n",
      "5<->13; dr=-101.0\n",
      "17<->5; dr=-358.0\n",
      "10<->17; dr=-188.9000000000001\n",
      "9<->10; dr=-1.099999999999909\n",
      "1<->9; dr=-75.30000000000007\n",
      "6<->1; dr=-143.60000000000002\n",
      "20<->6; dr=-13.0\n",
      "2<->20; dr=-217.0\n",
      "6<->2; dr=-69.0\n",
      "8<->4; dr=-82.0\n",
      "15<->8; dr=-32.0\n",
      "8<->4; dr=-36.0\n",
      "8<->15; dr=-23.0\n",
      "14<->15; dr=-16.0\n",
      "9<->17; dr=-131.0\n",
      "2<->18; dr=-48.0\n",
      "21<->2; dr=-53.0\n",
      "21<->15; dr=-71.0\n",
      "15<->14; dr=-9.0\n",
      "18<->5; dr=-282.0\n",
      "14<->15; dr=-16.0\n",
      "19<->20; dr=-70.0\n",
      "2<->19; dr=-19.0\n",
      "5<->20; dr=-38.0\n",
      "Distances = [12713.0, 11648.4, 11558.4, 11274.0, 11177.0, 10530.0, 10324.6, 10285.6, 9901.6, 9849.0, 9789.6, 9560.6, 9545.6, 9539.6, 9183.6, 8842.6, 8822.6, 8590.6, 8575.6, 8494.6, 8231.0, 8097.0, 7996.0, 7638.0, 7449.1, 7448.0, 7372.7, 7229.099999999999, 7216.099999999999, 6999.099999999999, 6930.099999999999, 6848.099999999999, 6816.099999999999, 6780.099999999999, 6757.099999999999, 6741.099999999999, 6610.099999999999, 6562.099999999999, 6509.099999999999, 6438.099999999999, 6429.099999999999, 6147.099999999999, 6131.099999999999, 6061.099999999999, 6042.099999999999, 6004.099999999999]\n",
      "Verification is successful:\n",
      "r = [0, 6, 11, 16, 13, 12, 7, 8, 14, 10, 9, 17, 3, 1, 21, 4, 15, 18, 2, 5, 20, 19, 0]\n",
      "Distance = 6004.1\n"
     ]
    },
    {
     "data": {
      "text/plain": [
       "[<matplotlib.lines.Line2D at 0x11e83c70>]"
      ]
     },
     "execution_count": 58,
     "metadata": {},
     "output_type": "execute_result"
    },
    {
     "data": {
      "image/png": "[encoded data removed]",
      "text/plain": [
       "<Figure size 720x720 with 1 Axes>"
      ]
     },
     "metadata": {
      "needs_background": "light"
     },
     "output_type": "display_data"
    }
   ],
   "source": [
    "init(); dm=[d_min]; i=[0]; j=[0]; dr=[0];\n",
    "while swap2first():\n",
    "    dm.append(d_min)\n",
    "    #i.append(i_opt); j.append(j_opt); dr.append(dr)\n",
    "print(\"Distances =\",dm)\n",
    "ver(r)\n",
    "plt.figure(1, figsize=(10,10))\n",
    "plt.plot(dm)"
   ]
  },
  {
   "cell_type": "code",
   "execution_count": 59,
   "metadata": {
    "collapsed": true
   },
   "outputs": [
    {
     "data": {
      "image/png": "[encoded data removed]",
      "text/plain": [
       "<Figure size 720x720 with 1 Axes>"
      ]
     },
     "metadata": {
      "needs_background": "light"
     },
     "output_type": "display_data"
    }
   ],
   "source": [
    "d_swap2first = [12713.0, 11648.4, 11558.4, 11274.0, 11177.0, 10530.0, 10324.6, 10285.6, 9901.6, 9849.0, 9789.6, 9560.6, 9545.6, 9539.6, 9183.6, 8842.6, 8822.6, 8590.6, 8575.6, 8494.6, 8231.0, 8097.0, 7996.0, 7638.0, 7449.1, 7448.0, 7372.7, 7229.099999999999, 7216.099999999999, 6999.099999999999, 6930.099999999999, 6848.099999999999, 6816.099999999999, 6780.099999999999, 6757.099999999999, 6741.099999999999, 6610.099999999999, 6562.099999999999, 6509.099999999999, 6438.099999999999, 6429.099999999999, 6147.099999999999, 6131.099999999999, 6061.099999999999, 6042.099999999999, 6004.099999999999]\n",
    "d_swap2best = [12713.0, 10830.0, 9493.0, 8615.0, 7916.0, 6833.0, 6098.0, 5514.4, 5332.0, 5077.0, 4947.0, 4831.1, 4609.1, 4585.1, 4577.1]\n",
    "\n",
    "plt.figure(1, figsize=(10,10))\n",
    "plt.title('Swap 2 cities: best vs first', loc='left')\n",
    "plt.plot(d_swap2first, color='blue', marker='x', linestyle='solid', linewidth=1, markersize=5)\n",
    "plt.plot(d_swap2best, color='green', marker='o', linestyle='dashed', linewidth=1, markersize=5)\n",
    "plt.xlabel(\"swaps\")\n",
    "plt.ylabel(\"distance\")\n",
    "plt.show()"
   ]
  }
 ],
 "metadata": {
  "kernelspec": {
   "display_name": "Python 3",
   "language": "python",
   "name": "python3"
  },
  "language_info": {
   "codemirror_mode": {
    "name": "ipython",
    "version": 3
   },
   "file_extension": ".py",
   "mimetype": "text/x-python",
   "name": "python",
   "nbconvert_exporter": "python",
   "pygments_lexer": "ipython3",
   "version": "3.8.5"
  }
 },
 "nbformat": 4,
 "nbformat_minor": 4
}
